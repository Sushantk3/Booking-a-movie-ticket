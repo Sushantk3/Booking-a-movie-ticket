{
 "cells": [
  {
   "cell_type": "code",
   "execution_count": 1,
   "id": "fcb1779f-6acb-4ed1-9354-2d1f16a67d9d",
   "metadata": {},
   "outputs": [
    {
     "name": "stdout",
     "output_type": "stream",
     "text": [
      "Hi welcome to movie ticket booking: \n",
      "where you want to watch movie?:\n",
      "1,Pune\n",
      "2,Mumbai\n",
      "3,Delhi\n"
     ]
    },
    {
     "name": "stdin",
     "output_type": "stream",
     "text": [
      "Select City:  1\n"
     ]
    },
    {
     "name": "stdout",
     "output_type": "stream",
     "text": [
      "Choose Theater Screen: \n",
      "1,Inox\n",
      "2,PVR\n",
      "3,Cinepolis\n"
     ]
    },
    {
     "name": "stdin",
     "output_type": "stream",
     "text": [
      "Choose Theater Screen:  1\n"
     ]
    },
    {
     "name": "stdout",
     "output_type": "stream",
     "text": [
      "Which movie do you want to see\n",
      "Todays Shows\n",
      "1,Dangal\n",
      "2,3 Idiots\n",
      "3,Dhamaal\n"
     ]
    },
    {
     "name": "stdin",
     "output_type": "stream",
     "text": [
      "select movie name:  1\n"
     ]
    },
    {
     "name": "stdout",
     "output_type": "stream",
     "text": [
      "Choose Screen\n",
      "1,Screen1\n",
      "2,Screen2\n",
      "3,Screen3\n"
     ]
    },
    {
     "name": "stdin",
     "output_type": "stream",
     "text": [
      "Choose Screen:  1\n",
      "Number of Ticket Do You Want:  1\n"
     ]
    },
    {
     "name": "stdout",
     "output_type": "stream",
     "text": [
      "Select your time: \n",
      "1,09:30-12:30\n",
      "2,12:45-03:45\n",
      "3,04:00-07:00\n",
      "4,07:15-10:15\n"
     ]
    },
    {
     "name": "stdin",
     "output_type": "stream",
     "text": [
      "show time:  1\n"
     ]
    },
    {
     "name": "stdout",
     "output_type": "stream",
     "text": [
      "Successful!, Enjoy your Movie\n"
     ]
    }
   ],
   "source": [
    "global f\n",
    "f=0\n",
    "def city():\n",
    "    global f\n",
    "    f=f+1\n",
    "    print('Hi welcome to movie ticket booking: ')\n",
    "    print('where you want to watch movie?:')\n",
    "    print('1,Pune')\n",
    "    print('2,Mumbai')\n",
    "    print('3,Delhi')\n",
    "    city= int(input('Select City: '))\n",
    "    a=city\n",
    "    if f==1:\n",
    "        theater()\n",
    "def theater():\n",
    "    print('Choose Theater Screen: ')\n",
    "    print('1,Inox')\n",
    "    print('2,PVR')\n",
    "    print('3,Cinepolis')\n",
    "    theater=int(input('Choose Theater Screen: '))\n",
    "    b=theater\n",
    "    if f==1:\n",
    "        movies()\n",
    "def movies():\n",
    "    print('Which movie do you want to see')\n",
    "    print('Todays Shows')\n",
    "    print('1,Dangal')\n",
    "    print('2,3 Idiots')\n",
    "    print('3,Dhamaal')\n",
    "    movie= int(input('select movie name: '))\n",
    "    c=movie\n",
    "    if f==1:\n",
    "        screen()\n",
    "def screen():\n",
    "    print('Choose Screen')\n",
    "    print('1,Screen1')\n",
    "    print('2,Screen2')\n",
    "    print('3,Screen3')\n",
    "    screen=int(input('Choose Screen: '))\n",
    "    d=screen\n",
    "    ticket=int(input('Number of Ticket Do You Want: '))\n",
    "    e=ticket\n",
    "    if f==1:\n",
    "        time()\n",
    "def time():\n",
    "    print('Select your time: ')\n",
    "    print('1,09:30-12:30')\n",
    "    print('2,12:45-03:45')\n",
    "    print('3,04:00-07:00')\n",
    "    print('4,07:15-10:15')\n",
    "    time=int(input('show time: '))\n",
    "    e=time\n",
    "    if f==1:\n",
    "        print('Successful!, Enjoy your Movie')\n",
    "        \n",
    "city()"
   ]
  },
  {
   "cell_type": "code",
   "execution_count": null,
   "id": "d9c5a010-73aa-45b2-acba-e03500fac1e1",
   "metadata": {},
   "outputs": [],
   "source": []
  }
 ],
 "metadata": {
  "kernelspec": {
   "display_name": "Python 3 (ipykernel)",
   "language": "python",
   "name": "python3"
  },
  "language_info": {
   "codemirror_mode": {
    "name": "ipython",
    "version": 3
   },
   "file_extension": ".py",
   "mimetype": "text/x-python",
   "name": "python",
   "nbconvert_exporter": "python",
   "pygments_lexer": "ipython3",
   "version": "3.9.12"
  }
 },
 "nbformat": 4,
 "nbformat_minor": 5
}
